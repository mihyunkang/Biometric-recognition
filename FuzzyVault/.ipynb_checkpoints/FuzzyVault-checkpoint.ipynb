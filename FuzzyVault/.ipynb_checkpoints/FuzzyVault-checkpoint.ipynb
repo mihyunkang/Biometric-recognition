{
 "cells": [
  {
   "cell_type": "code",
   "execution_count": 1,
   "metadata": {},
   "outputs": [
    {
     "name": "stdout",
     "output_type": "stream",
     "text": [
      "97\n",
      "6\n",
      "<class 'bytes'>\n"
     ]
    }
   ],
   "source": [
    "# split string\n",
    "key = b'abcdef'\n",
    "print(key[0])\n",
    "print(len(key))\n",
    "print(type(key))"
   ]
  },
  {
   "cell_type": "code",
   "execution_count": 2,
   "metadata": {},
   "outputs": [],
   "source": [
    "from random import uniform, shuffle\n",
    "import numpy\n",
    "from numpy import polyfit"
   ]
  },
  {
   "cell_type": "code",
   "execution_count": 3,
   "metadata": {},
   "outputs": [],
   "source": [
    "# biotemplate\n",
    "template1 = {\n",
    "    \"Jayme Woogerd\": [0.22, 1.23, 2.342, 0.33, 1.27, 0.34, 2.32, 3.98, 1.254, 0.03],\n",
    "    \"Ming Chow\":     [0.32, 1.32, 2.452, 0.49, 1.43, 0.34, 2.52, 3.55, 1.233, 0.001],\n",
    "    \"Norman Ramsey\": [0.45, 1.11, 2.321, 0.12, 1.11, 0.22, 2.91, 3.554, 1.33, 0.01]\n",
    "}\n",
    "\n",
    "template2 = {\n",
    "        \"Jayme Woogerd\": [0.23, 1.13, 2.322, 3.98, 0.333, 1.269, 0.34, 2.32, 1.254, 0.03],\n",
    "        \"Ming Chow\":     [0.31, 1.32, 2.442, 0.493, 1.43, 0.35, 2.52, 3.559, 1.233, 0.001],\n",
    "        \"Norman Ramsey\": [0.45, 1.10, 2.311, 0.12, 1.11, 0.32, 2.91, 3.564, 1.33, 0.03]\n",
    "}"
   ]
  },
  {
   "cell_type": "code",
   "execution_count": 4,
   "metadata": {},
   "outputs": [],
   "source": [
    "# calculate polynomial result\n",
    "def p_x(x, coeffs):\n",
    "    y = 0\n",
    "    degree = 4\n",
    "    for coeff in coeffs:\n",
    "        y += x**degree * coeff\n",
    "        degree -= 1\n",
    "        if degree < 0:\n",
    "            return y\n",
    "    return y\n"
   ]
  },
  {
   "cell_type": "code",
   "execution_count": 5,
   "metadata": {},
   "outputs": [],
   "source": [
    "degree = 40 # degree of polynomial\n",
    "t = 10      # number of features in each template\n",
    "r = 40      # number of chaff points"
   ]
  },
  {
   "cell_type": "code",
   "execution_count": 6,
   "metadata": {},
   "outputs": [
    {
     "name": "stdout",
     "output_type": "stream",
     "text": [
      "[[0.22, 129.06233232], [0.33, 149.45326937], [1.2886680914757487, 34382.98372621094], [1.254, 815.190957586832], [0.03, 104.09182457], [4.655968380395072, 19152.93901719056], [3.898031334917272, 9538.910071874694], [3.947042810716042, 27083.523884316273], [0.6316957960734603, 14884.065303836798], [4.197853197063044, 8596.277666920156], [4.9728365729207775, 10551.041272697166], [3.569401298085868, 13968.3089367792], [0.9105060113756714, 1206.193315008693], [4.513922626379593, 1633.5007582200892], [2.268761010481047, 32902.94579417546], [5.023593293904388, 12503.471415652919], [4.057470474282392, 13362.871445398521], [0.34, 151.59243792], [3.697128551802348, 16279.773679038222], [0.32484883836043205, 26106.046868243586], [2.342, 5055.326951309712], [2.32, 4899.712350719999], [4.843360323815508, 18490.835693356246], [2.080043144735225, 13780.404414685952], [4.4098419114641585, 22634.396620260817], [2.820878421859102, 8366.480984243659], [1.23, 778.1621077699999], [4.854490439552642, 16427.656578111277], [1.8802750554453687, 26596.400625890208], [1.27, 840.7589357700001], [4.324594913806803, 33014.85380562558], [1.554146875236096, 28833.13674772674], [2.9433159299638896, 10442.712145685138], [3.444672191394507, 25618.76386919442], [1.4184838325890154, 20915.506507827267], [2.81349613006344, 13777.191554510342], [3.98, 32584.66161552], [1.3764867761978257, 23612.04230338991], [3.1872501451731243, 8640.539176637687], [1.774458854402857, 18376.49594123392]]\n",
      "40\n",
      "b'abcdef'\n"
     ]
    }
   ],
   "source": [
    "# encoding\n",
    "template = template1['Jayme Woogerd']\n",
    "y = 0\n",
    "\n",
    "# a fuzzy vault in which this data is encrypted \n",
    "vault = []\n",
    "coeffs = key\n",
    "\n",
    "# calculate genuine points\n",
    "for point in template:\n",
    "    vault.append([point, p_x(point, coeffs)])\n",
    "\n",
    "# add chaff points\n",
    "max_x = max(template)\n",
    "max_y = max([y for [x, y] in vault])\n",
    "\n",
    "for i in range(t, r):\n",
    "    x_i = uniform(0, max_x + 1.1)\n",
    "    y_i = uniform(0, max_y * 1.1)\n",
    "    vault.append([x_i, y_i])\n",
    "    \n",
    "shuffle(vault)\n",
    "\n",
    "print(vault)\n",
    "print(len(vault))\n",
    "print(coeffs)"
   ]
  },
  {
   "cell_type": "code",
   "execution_count": 7,
   "metadata": {},
   "outputs": [],
   "source": [
    "def approx_equal(a, b, epsilon):\n",
    "    return abs(a - b) < epsilon"
   ]
  },
  {
   "cell_type": "code",
   "execution_count": 8,
   "metadata": {},
   "outputs": [],
   "source": [
    "def project(x):\n",
    "    for point in vault:\n",
    "        if (approx_equal(x, point[0], 0.001)):\n",
    "            return [x, point[1]]\n",
    "    return None"
   ]
  },
  {
   "cell_type": "code",
   "execution_count": 9,
   "metadata": {},
   "outputs": [
    {
     "name": "stdout",
     "output_type": "stream",
     "text": [
      "5\n",
      "5\n",
      "[3.98, 0.34, 2.32, 1.254, 0.03]\n",
      "5\n",
      "[32584.66161552, 151.59243792, 4899.712350719999, 815.190957586832, 104.09182457]\n"
     ]
    }
   ],
   "source": [
    "degree = 4\n",
    "\n",
    "template = template2['Jayme Woogerd']\n",
    "Q_x = []\n",
    "Q_y = []\n",
    "\n",
    "acc = 0\n",
    "\n",
    "for point in template:\n",
    "    cand = project(point)\n",
    "    if (cand != None):\n",
    "        Q_x.append(cand[0])\n",
    "        Q_y.append(cand[1])\n",
    "        if cand[0] in template1['Jayme Woogerd']:\n",
    "            acc += 1\n",
    "print(acc)\n",
    "        \n",
    "print(len(Q_x))\n",
    "print(Q_x)\n",
    "print(len(Q_y))\n",
    "print(Q_y)\n",
    "\n",
    "coeffs_cand = 0\n",
    "coeffs_cand = polyfit(Q_x, Q_y, deg=degree)"
   ]
  },
  {
   "cell_type": "code",
   "execution_count": 10,
   "metadata": {},
   "outputs": [
    {
     "data": {
      "text/plain": [
       "array([ 97.,  98.,  99., 100., 101.])"
      ]
     },
     "execution_count": 10,
     "metadata": {},
     "output_type": "execute_result"
    }
   ],
   "source": [
    "coeffs_cand # 찾은 key"
   ]
  },
  {
   "cell_type": "code",
   "execution_count": null,
   "metadata": {},
   "outputs": [],
   "source": [
    "#성공"
   ]
  },
  {
   "cell_type": "code",
   "execution_count": null,
   "metadata": {},
   "outputs": [],
   "source": []
  }
 ],
 "metadata": {
  "kernelspec": {
   "display_name": "Python 3",
   "language": "python",
   "name": "python3"
  },
  "language_info": {
   "codemirror_mode": {
    "name": "ipython",
    "version": 3
   },
   "file_extension": ".py",
   "mimetype": "text/x-python",
   "name": "python",
   "nbconvert_exporter": "python",
   "pygments_lexer": "ipython3",
   "version": "3.7.6"
  }
 },
 "nbformat": 4,
 "nbformat_minor": 4
}
